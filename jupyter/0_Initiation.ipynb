{
 "cells": [
  {
   "cell_type": "code",
   "execution_count": 2,
   "source": [
    "#First Word (simplified)\r\n",
    "ejemplo = \"Hola a todos\"\r\n",
    "\r\n",
    "a,b,c = ejemplo.partition(\" \")\r\n",
    "print (a)\r\n",
    "print (c)\r\n",
    "\r\n",
    "a = ejemplo.split(\" \")\r\n",
    "print(a[0])\r\n",
    "print(a)"
   ],
   "outputs": [
    {
     "output_type": "stream",
     "name": "stdout",
     "text": [
      "Hola\n",
      "a todos\n",
      "Hola\n",
      "['Hola', 'a', 'todos']\n"
     ]
    }
   ],
   "metadata": {}
  },
  {
   "cell_type": "code",
   "execution_count": 3,
   "source": [
    "#Acceptable Password I \r\n",
    "p1 = \"123\"\r\n",
    "p2 = \"123456\"\r\n",
    "p3 = \"123456789\"\r\n",
    "\r\n",
    "def longitud_valida(p: str) -> bool:\r\n",
    "    return (\"valida\" if len(p)>=6 else \"invalida\")\r\n",
    "print(f\"p1 = {p1}  -> {longitud_valida(p1)}\")\r\n",
    "print(f\"p2 = {p2}  -> {longitud_valida(p2)}\")\r\n",
    "print(f\"p3 = {p3}  -> {longitud_valida(p3)}\")"
   ],
   "outputs": [
    {
     "output_type": "stream",
     "name": "stdout",
     "text": [
      "p1 = 123  -> invalida\n",
      "p2 = 123456  -> valida\n",
      "p3 = 123456789  -> valida\n"
     ]
    }
   ],
   "metadata": {}
  },
  {
   "cell_type": "code",
   "execution_count": null,
   "source": [],
   "outputs": [],
   "metadata": {}
  }
 ],
 "metadata": {
  "kernelspec": {
   "name": "python3",
   "display_name": "Python 3.8.2 64-bit"
  },
  "language_info": {
   "codemirror_mode": {
    "name": "ipython",
    "version": 3
   },
   "file_extension": ".py",
   "mimetype": "text/x-python",
   "name": "python",
   "nbconvert_exporter": "python",
   "pygments_lexer": "ipython3",
   "version": "3.8.2"
  },
  "interpreter": {
   "hash": "1baa965d5efe3ac65b79dfc60c0d706280b1da80fedb7760faf2759126c4f253"
  }
 },
 "nbformat": 4,
 "nbformat_minor": 5
}