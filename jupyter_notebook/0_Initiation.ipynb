{
 "cells": [
  {
   "cell_type": "code",
   "execution_count": 4,
   "id": "766acb87-62af-47d7-84a8-8ebc25094d14",
   "metadata": {},
   "outputs": [
    {
     "name": "stdout",
     "output_type": "stream",
     "text": [
      "Hola\n",
      "a todos\n",
      "Hola\n",
      "['Hola', 'a', 'todos']\n"
     ]
    }
   ],
   "source": [
    "#First Word (simplified)\n",
    "ejemplo = \"Hola a todos\"\n",
    "\n",
    "a,b,c = ejemplo.partition(\" \")\n",
    "print (a)\n",
    "print (c)\n",
    "\n",
    "a = ejemplo.split(\" \")\n",
    "print(a[0])\n",
    "print(a)"
   ]
  },
  {
   "cell_type": "code",
   "execution_count": 19,
   "id": "2f045d0d-d373-4fd3-b2e2-19adcf724dae",
   "metadata": {},
   "outputs": [
    {
     "name": "stdout",
     "output_type": "stream",
     "text": [
      "p1 = 123  -> invalida\n",
      "p2 = 123456  -> valida\n",
      "p3 = 123456789  -> valida\n"
     ]
    }
   ],
   "source": [
    "#Acceptable Password I \n",
    "p1 = \"123\"\n",
    "p2 = \"123456\"\n",
    "p3 = \"123456789\"\n",
    "\n",
    "def longitud_valida(p: str) -> bool:\n",
    "    return (\"valida\" if len(p)>=6 else \"invalida\")\n",
    "print(f\"p1 = {p1}  -> {longitud_valida(p1)}\")\n",
    "print(f\"p2 = {p2}  -> {longitud_valida(p2)}\")\n",
    "print(f\"p3 = {p3}  -> {longitud_valida(p3)}\")"
   ]
  },
  {
   "cell_type": "code",
   "execution_count": null,
   "id": "17b63253-018c-4752-be22-f1e0dacfcc35",
   "metadata": {},
   "outputs": [],
   "source": []
  }
 ],
 "metadata": {
  "kernelspec": {
   "display_name": "Python 3 (ipykernel)",
   "language": "python",
   "name": "python3"
  },
  "language_info": {
   "codemirror_mode": {
    "name": "ipython",
    "version": 3
   },
   "file_extension": ".py",
   "mimetype": "text/x-python",
   "name": "python",
   "nbconvert_exporter": "python",
   "pygments_lexer": "ipython3",
   "version": "3.8.2"
  }
 },
 "nbformat": 4,
 "nbformat_minor": 5
}
