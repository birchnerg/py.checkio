{
 "cells": [
  {
   "cell_type": "markdown",
   "source": [
    "# Sum Numbers\r\n",
    "#### In a given text you need to sum the numbers while excluding any digits that form part of a word.\r\n",
    "#### The text consists of numbers, spaces and letters from the English alphabet. "
   ],
   "metadata": {}
  },
  {
   "cell_type": "code",
   "execution_count": 2,
   "source": [
    "texto = \"Ejemplo 025 25ss 88 1s1 eo2 44\" \r\n",
    "# 025 + 88 + 44\r\n",
    "palabras = texto.split(\" \")\r\n",
    "nums = []\r\n",
    "for p in palabras:\r\n",
    "    if p.isdigit():\r\n",
    "        nums.append(int(p))\r\n",
    "print(nums)\r\n",
    "print(sum(nums))"
   ],
   "outputs": [
    {
     "output_type": "stream",
     "name": "stdout",
     "text": [
      "[25, 88, 44]\n",
      "157\n"
     ]
    }
   ],
   "metadata": {}
  },
  {
   "cell_type": "markdown",
   "source": [
    "# Three Words\r\n"
   ],
   "metadata": {}
  },
  {
   "cell_type": "code",
   "execution_count": 2,
   "source": [
    "textoT = \"bla bla bla bla\" \r\n",
    "textF = \"He is 123 man\"\r\n",
    "def threeWords(txt: str) -> bool:\r\n",
    "    count = 0\r\n",
    "    for w in txt.split():\r\n",
    "        if w.isalpha():\r\n",
    "            count += 1\r\n",
    "            if count == 3:\r\n",
    "                return True\r\n",
    "        else:\r\n",
    "            count = 0\r\n",
    "    return False\r\n",
    "print(textoT, \"\\n\", threeWords(textoT))\r\n",
    "print(textF, \"\\n\", threeWords(textF))\r\n"
   ],
   "outputs": [
    {
     "output_type": "stream",
     "name": "stdout",
     "text": [
      "bla bla bla bla \n",
      " True\n",
      "He is 123 man \n",
      " False\n"
     ]
    }
   ],
   "metadata": {}
  },
  {
   "cell_type": "markdown",
   "source": [
    "# Days Between"
   ],
   "metadata": {}
  },
  {
   "cell_type": "code",
   "execution_count": 11,
   "source": [
    "from datetime import date\r\n",
    "# https://docs.python.org/3/library/datetime.html\r\n",
    "f = ((1982, 4, 19), (1982, 4, 22))\r\n",
    "def daysBetween(fechas: tuple) -> int:\r\n",
    "    f1, f2 = fechas\r\n",
    "    y1, m1, d1 = f1\r\n",
    "    y2, m2, d2 = f2\r\n",
    "    res = date(y1, m1, d1) - date(y2, m2, d2)\r\n",
    "    return abs(res.days)\r\n",
    "daysBetween(f)"
   ],
   "outputs": [
    {
     "output_type": "execute_result",
     "data": {
      "text/plain": [
       "3"
      ]
     },
     "metadata": {},
     "execution_count": 11
    }
   ],
   "metadata": {}
  },
  {
   "cell_type": "markdown",
   "source": [
    "# Count Digits"
   ],
   "metadata": {}
  },
  {
   "cell_type": "code",
   "execution_count": 13,
   "source": [
    "text = \"Petersen between 1845 and 1910 year\"\r\n",
    "def countDigits(txt: str) -> str:\r\n",
    "    count = 0\r\n",
    "    for l in txt:\r\n",
    "        if l.isdigit():\r\n",
    "            count += 1\r\n",
    "    return count\r\n",
    "countDigits(text)"
   ],
   "outputs": [
    {
     "output_type": "execute_result",
     "data": {
      "text/plain": [
       "8"
      ]
     },
     "metadata": {},
     "execution_count": 13
    }
   ],
   "metadata": {}
  },
  {
   "cell_type": "markdown",
   "source": [
    "# Backward Each Word"
   ],
   "metadata": {}
  },
  {
   "cell_type": "code",
   "execution_count": null,
   "source": [],
   "outputs": [],
   "metadata": {}
  }
 ],
 "metadata": {
  "orig_nbformat": 4,
  "language_info": {
   "name": "python",
   "version": "3.8.2",
   "mimetype": "text/x-python",
   "codemirror_mode": {
    "name": "ipython",
    "version": 3
   },
   "pygments_lexer": "ipython3",
   "nbconvert_exporter": "python",
   "file_extension": ".py"
  },
  "kernelspec": {
   "name": "python3",
   "display_name": "Python 3.8.2 64-bit"
  },
  "interpreter": {
   "hash": "1baa965d5efe3ac65b79dfc60c0d706280b1da80fedb7760faf2759126c4f253"
  }
 },
 "nbformat": 4,
 "nbformat_minor": 2
}